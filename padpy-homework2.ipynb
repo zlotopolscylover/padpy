{
 "cells": [
  {
   "cell_type": "code",
   "execution_count": 82,
   "metadata": {},
   "outputs": [],
   "source": [
    "import pandas as pd\n",
    "import numpy as np\n",
    "import tempfile\n",
    "import os\n",
    "import sqlite3"
   ]
  },
  {
   "cell_type": "markdown",
   "metadata": {},
   "source": [
    "nazwy musza miec liczbe pojedyncza"
   ]
  },
  {
   "cell_type": "code",
   "execution_count": 83,
   "metadata": {},
   "outputs": [],
   "source": [
    "Badge = pd.read_csv(\"Badges.csv\", error_bad_lines=False, comment=\"#\")\n",
    "Comment = pd.read_csv(\"Comments.csv\", error_bad_lines=False, comment=\"#\")\n",
    "PostLink = pd.read_csv(\"PostLinks.csv\", error_bad_lines=False, comment=\"#\")\n",
    "Post = pd.read_csv(\"Posts.csv\", error_bad_lines=False, comment=\"#\")\n",
    "Tag = pd.read_csv(\"Tags.csv\", error_bad_lines=False, comment=\"#\")\n",
    "User = pd.read_csv(\"Users.csv\", error_bad_lines=False, comment=\"#\")\n",
    "Vote = pd.read_csv(\"Votes.csv\", error_bad_lines=False, comment=\"#\")"
   ]
  },
  {
   "cell_type": "code",
   "execution_count": 84,
   "metadata": {},
   "outputs": [],
   "source": [
    "base = os.path.join(tempfile.mkdtemp(), \"base.db\")\n",
    "if os.path.isfile(base):\n",
    "    os.remove(base)\n",
    "conn = sqlite3.connect(base)"
   ]
  },
  {
   "cell_type": "code",
   "execution_count": 85,
   "metadata": {},
   "outputs": [],
   "source": [
    "Badge.to_sql(\"Badge\", conn, index = False)\n",
    "Comment.to_sql(\"Comment\", conn, index = False)\n",
    "PostLink.to_sql(\"PostLink\", conn, index = False)\n",
    "Post.to_sql(\"Post\", conn, index = False)\n",
    "Tag.to_sql(\"Tag\", conn, index = False)\n",
    "User.to_sql(\"User\", conn, index = False)\n",
    "Vote.to_sql(\"Vote\", conn, index = False)"
   ]
  },
  {
   "cell_type": "code",
   "execution_count": 86,
   "metadata": {},
   "outputs": [],
   "source": [
    "df_sql_1 = pd.read_sql_query(\"\"\"\n",
    "SELECT PostId, COUNT(*) AS UpVotes\n",
    "FROM Vote\n",
    "WHERE VoteTypeId=2\n",
    "GROUP BY PostId\n",
    "\"\"\", conn)"
   ]
  },
  {
   "cell_type": "code",
   "execution_count": 87,
   "metadata": {},
   "outputs": [],
   "source": [
    "df_pd_1 = Vote.loc[(Vote.VoteTypeId == 2)].groupby(\"PostId\").size().reset_index(name = \"UpVotes\")"
   ]
  },
  {
   "cell_type": "code",
   "execution_count": 88,
   "metadata": {},
   "outputs": [
    {
     "data": {
      "text/plain": [
       "pandas.core.frame.DataFrame"
      ]
     },
     "execution_count": 88,
     "metadata": {},
     "output_type": "execute_result"
    }
   ],
   "source": [
    "type(df_sql_1)\n",
    "type(df_pd_1)"
   ]
  },
  {
   "cell_type": "code",
   "execution_count": 89,
   "metadata": {},
   "outputs": [
    {
     "data": {
      "text/plain": [
       "True"
      ]
     },
     "execution_count": 89,
     "metadata": {},
     "output_type": "execute_result"
    }
   ],
   "source": [
    "df_sql_1.equals(df_pd_1)"
   ]
  },
  {
   "cell_type": "code",
   "execution_count": 90,
   "metadata": {},
   "outputs": [],
   "source": [
    "df_sql_2 = pd.read_sql_query(\"\"\"\n",
    "SELECT Title, Score, ViewCount, FavoriteCount\n",
    "FROM Post\n",
    "WHERE PostTypeId=1 AND FavoriteCount >= 25 AND ViewCount>=10000\n",
    "\"\"\", conn)"
   ]
  },
  {
   "cell_type": "code",
   "execution_count": 100,
   "metadata": {},
   "outputs": [],
   "source": [
    "df_pd_2 = Post.loc[(Post.PostTypeId == 1) & (Post.FavoriteCount >= 25) & (Post.ViewCount >= 10000), [\"Title\", \"Score\", \"ViewCount\", \"FavoriteCount\"]].reset_index(drop = True)"
   ]
  },
  {
   "cell_type": "code",
   "execution_count": 96,
   "metadata": {},
   "outputs": [
    {
     "data": {
      "text/plain": [
       "True"
      ]
     },
     "execution_count": 96,
     "metadata": {},
     "output_type": "execute_result"
    }
   ],
   "source": [
    "df_sql_2.equals(df_pd_2)"
   ]
  },
  {
   "cell_type": "code",
   "execution_count": 122,
   "metadata": {},
   "outputs": [],
   "source": [
    "df_sql_3 = pd.read_sql_query(\"\"\"\n",
    "SELECT Tag.TagName, Tag.Count, Post.OwnerUserId,\n",
    "User.Location, User.DisplayName\n",
    "FROM Tag\n",
    "JOIN Post ON Post.Id=Tag.WikiPostId\n",
    "JOIN User ON User.AccountId=Post.OwnerUserId\n",
    "WHERE OwnerUserId != -1\n",
    "ORDER BY Count DESC\n",
    "\"\"\", conn)"
   ]
  },
  {
   "cell_type": "code",
   "execution_count": 155,
   "metadata": {},
   "outputs": [],
   "source": [
    "t = pd.merge(pd.merge(Tag, Post, left_on = \"WikiPostId\", right_on = \"Id\"), User, left_on = \"OwnerUserId\", right_on = \"AccountId\")\n",
    "df_pd_3 = t.loc[(t.OwnerUserId != -1), [\"TagName\", \"Count\", \"OwnerUserId\", \"Location\", \"DisplayName\"]].sort_values(\"Count\", ascending = False).reset_index(drop = True)"
   ]
  },
  {
   "cell_type": "code",
   "execution_count": 156,
   "metadata": {},
   "outputs": [
    {
     "data": {
      "text/plain": [
       "True"
      ]
     },
     "execution_count": 156,
     "metadata": {},
     "output_type": "execute_result"
    }
   ],
   "source": [
    "df_sql_3.equals(df_pd_3)"
   ]
  },
  {
   "cell_type": "code",
   "execution_count": 144,
   "metadata": {},
   "outputs": [],
   "source": [
    "df_sql_4 = pd.read_sql_query(\"\"\"\n",
    "SELECT Post.Title, RelatedTab.NumLinks FROM\n",
    "    (SELECT RelatedPostId AS PostId, COUNT(*) AS NumLinks\n",
    "    FROM PostLink GROUP BY RelatedPostId) AS RelatedTab\n",
    "JOIN Post ON RelatedTab.PostId=Post.Id\n",
    "WHERE Post.PostTypeId=1\n",
    "ORDER BY NumLinks DESC\n",
    "\"\"\", conn)"
   ]
  },
  {
   "cell_type": "code",
   "execution_count": 159,
   "metadata": {},
   "outputs": [],
   "source": [
    "RelatedTab = PostLink.groupby(\"RelatedPostId\").size().reset_index(name = \"NumLinks\").rename(columns = {\"RelatedPostId\": \"PostId\"})\n",
    "t = pd.merge(RelatedTab, Post, left_on = \"PostId\", right_on = \"Id\")\n",
    "df_pd_4 = t.loc[(t.PostTypeId == 1), [\"Title\", \"NumLinks\"]].sort_values(\"NumLinks\", ascending = False).reset_index(drop = True)"
   ]
  },
  {
   "cell_type": "code",
   "execution_count": 177,
   "metadata": {},
   "outputs": [
    {
     "data": {
      "text/plain": [
       "True"
      ]
     },
     "execution_count": 177,
     "metadata": {},
     "output_type": "execute_result"
    }
   ],
   "source": [
    "df_sql_4.sort_values(\"Title\").reset_index(drop = True).equals(df_pd_4.sort_values(\"Title\").reset_index(drop = True))"
   ]
  },
  {
   "cell_type": "code",
   "execution_count": 189,
   "metadata": {},
   "outputs": [],
   "source": [
    "df_sql_5 = pd.read_sql_query(\"\"\"\n",
    "SELECT UpVotesTab.*, Post.Title FROM\n",
    "    (SELECT PostId, COUNT(*) AS UpVotes FROM Vote WHERE VoteTypeId=2 GROUP BY PostId) AS UpVotesTab\n",
    "JOIN Post ON UpVotesTab.PostId=Post.Id\n",
    "WHERE Post.PostTypeId=1\n",
    "ORDER BY UpVotesTab.UpVotes DESC\n",
    "\"\"\", conn)"
   ]
  },
  {
   "cell_type": "code",
   "execution_count": 187,
   "metadata": {},
   "outputs": [],
   "source": [
    "UpVotesTab = Vote.loc[(Vote.VoteTypeId == 2)].groupby(\"PostId\").size().reset_index(name = \"UpVotes\")\n",
    "t = pd.merge(UpVotesTab, Post, left_on = \"PostId\", right_on = \"Id\")\n",
    "df_pd_5 = t.loc[(t.PostTypeId == 1), [\"PostId\", \"UpVotes\", \"Title\"]].sort_values(\"UpVotes\", ascending = False).reset_index(drop = True)"
   ]
  },
  {
   "cell_type": "code",
   "execution_count": 188,
   "metadata": {},
   "outputs": [
    {
     "data": {
      "text/plain": [
       "True"
      ]
     },
     "execution_count": 188,
     "metadata": {},
     "output_type": "execute_result"
    }
   ],
   "source": [
    "df_sql_5.sort_values(\"Title\").reset_index(drop = True).equals(df_pd_5.sort_values(\"Title\").reset_index(drop = True))"
   ]
  },
  {
   "cell_type": "code",
   "execution_count": 216,
   "metadata": {},
   "outputs": [],
   "source": [
    "df_sql_6 = pd.read_sql_query(\"\"\"\n",
    "SELECT UpVotesTab.PostId, UpVotesTab.UpVotes, IFNULL(DownVotesTab.DownVotes, 0) AS DownVotes FROM\n",
    "    (SELECT PostId, COUNT(*) AS UpVotes FROM Vote \n",
    "    WHERE VoteTypeId=2 GROUP BY PostId) AS UpVotesTab\n",
    "LEFT JOIN\n",
    "    (SELECT PostId, COUNT(*) AS DownVotes FROM Vote\n",
    "    WHERE VoteTypeId=3 GROUP BY PostId) AS DownVotesTab\n",
    "ON UpVotesTab.PostId=DownVotesTab.PostId\n",
    "\"\"\", conn)"
   ]
  },
  {
   "cell_type": "code",
   "execution_count": 214,
   "metadata": {},
   "outputs": [],
   "source": [
    "UpVotesTab = Vote.loc[(Vote.VoteTypeId == 2)].groupby(\"PostId\").size().reset_index(name = \"UpVotes\")\n",
    "DownVotesTab = Vote.loc[(Vote.VoteTypeId == 3)].groupby(\"PostId\").size().reset_index(name = \"UpVotes\")\n",
    "df_pd_6 = pd.merge(UpVotesTab, DownVotesTab, on = \"PostId\", how = \"left\").fillna(0).astype(int).rename(columns = {\"UpVotes_x\": \"UpVotes\", \"UpVotes_y\": \"DownVotes\"})"
   ]
  },
  {
   "cell_type": "code",
   "execution_count": 217,
   "metadata": {},
   "outputs": [
    {
     "data": {
      "text/plain": [
       "True"
      ]
     },
     "execution_count": 217,
     "metadata": {},
     "output_type": "execute_result"
    }
   ],
   "source": [
    "df_sql_6.equals(df_pd_6)"
   ]
  },
  {
   "cell_type": "code",
   "execution_count": 72,
   "metadata": {},
   "outputs": [
    {
     "data": {
      "text/html": [
       "<div>\n",
       "<style scoped>\n",
       "    .dataframe tbody tr th:only-of-type {\n",
       "        vertical-align: middle;\n",
       "    }\n",
       "\n",
       "    .dataframe tbody tr th {\n",
       "        vertical-align: top;\n",
       "    }\n",
       "\n",
       "    .dataframe thead th {\n",
       "        text-align: right;\n",
       "    }\n",
       "</style>\n",
       "<table border=\"1\" class=\"dataframe\">\n",
       "  <thead>\n",
       "    <tr style=\"text-align: right;\">\n",
       "      <th></th>\n",
       "      <th>PostId</th>\n",
       "      <th>Vote</th>\n",
       "    </tr>\n",
       "  </thead>\n",
       "  <tbody>\n",
       "    <tr>\n",
       "      <th>0</th>\n",
       "      <td>1</td>\n",
       "      <td>42</td>\n",
       "    </tr>\n",
       "    <tr>\n",
       "      <th>1</th>\n",
       "      <td>2</td>\n",
       "      <td>13</td>\n",
       "    </tr>\n",
       "    <tr>\n",
       "      <th>2</th>\n",
       "      <td>3</td>\n",
       "      <td>10</td>\n",
       "    </tr>\n",
       "    <tr>\n",
       "      <th>3</th>\n",
       "      <td>4</td>\n",
       "      <td>16</td>\n",
       "    </tr>\n",
       "    <tr>\n",
       "      <th>4</th>\n",
       "      <td>5</td>\n",
       "      <td>31</td>\n",
       "    </tr>\n",
       "    <tr>\n",
       "      <th>...</th>\n",
       "      <td>...</td>\n",
       "      <td>...</td>\n",
       "    </tr>\n",
       "    <tr>\n",
       "      <th>45704</th>\n",
       "      <td>63933</td>\n",
       "      <td>2</td>\n",
       "    </tr>\n",
       "    <tr>\n",
       "      <th>45705</th>\n",
       "      <td>63934</td>\n",
       "      <td>1</td>\n",
       "    </tr>\n",
       "    <tr>\n",
       "      <th>45706</th>\n",
       "      <td>63939</td>\n",
       "      <td>1</td>\n",
       "    </tr>\n",
       "    <tr>\n",
       "      <th>45707</th>\n",
       "      <td>63940</td>\n",
       "      <td>1</td>\n",
       "    </tr>\n",
       "    <tr>\n",
       "      <th>45708</th>\n",
       "      <td>63941</td>\n",
       "      <td>1</td>\n",
       "    </tr>\n",
       "  </tbody>\n",
       "</table>\n",
       "<p>45709 rows × 2 columns</p>\n",
       "</div>"
      ],
      "text/plain": [
       "       PostId  Vote\n",
       "0           1    42\n",
       "1           2    13\n",
       "2           3    10\n",
       "3           4    16\n",
       "4           5    31\n",
       "...       ...   ...\n",
       "45704   63933     2\n",
       "45705   63934     1\n",
       "45706   63939     1\n",
       "45707   63940     1\n",
       "45708   63941     1\n",
       "\n",
       "[45709 rows x 2 columns]"
      ]
     },
     "execution_count": 72,
     "metadata": {},
     "output_type": "execute_result"
    }
   ],
   "source": [
    "df_sql_7 = pd.read_sql_query(\"\"\"\n",
    "SELECT PostId, UpVotes-DownVotes AS Vote FROM \n",
    "    (SELECT UpVotesTab.PostId, UpVotesTab.UpVotes, IFNULL(DownVotesTab.DownVotes, 0) AS DownVotes FROM\n",
    "        (SELECT PostId, COUNT(*) AS UpVotes FROM Vote\n",
    "        WHERE VoteTypeId=2 GROUP BY PostId) AS UpVotesTab\n",
    "    LEFT JOIN\n",
    "        (SELECT PostId, COUNT(*) AS DownVotes\n",
    "        FROM Vote WHERE VoteTypeId=3 GROUP BY PostId) AS DownVotesTab\n",
    "    ON UpVotesTab.PostId=DownVotesTab.PostId\n",
    "    UNION\n",
    "    SELECT DownVotesTab.PostId, IFNULL(UpVotesTab.UpVotes, 0) AS UpVotes, DownVotesTab.DownVotes FROM\n",
    "        (SELECT PostId, COUNT(*) AS DownVotes FROM Vote\n",
    "        WHERE VoteTypeId=3 GROUP BY PostId) AS DownVotesTab\n",
    "    LEFT JOIN\n",
    "        (SELECT PostId, COUNT(*) AS UpVotes FROM Vote\n",
    "        WHERE VoteTypeId=2 GROUP BY PostId) AS UpVotesTab\n",
    "    ON DownVotesTab.PostId=UpVotesTab.PostId)\n",
    "\"\"\", conn)\n",
    "df_sql_7"
   ]
  }
 ],
 "metadata": {
  "kernelspec": {
   "display_name": "Python 3",
   "language": "python",
   "name": "python3"
  },
  "language_info": {
   "codemirror_mode": {
    "name": "ipython",
    "version": 3
   },
   "file_extension": ".py",
   "mimetype": "text/x-python",
   "name": "python",
   "nbconvert_exporter": "python",
   "pygments_lexer": "ipython3",
   "version": "3.6.8"
  }
 },
 "nbformat": 4,
 "nbformat_minor": 2
}
