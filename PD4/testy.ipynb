{
 "cells": [
  {
   "cell_type": "code",
   "execution_count": 1,
   "metadata": {},
   "outputs": [],
   "source": [
    "import pandas as pd\n",
    "import CV"
   ]
  },
  {
   "cell_type": "markdown",
   "metadata": {},
   "source": [
    "## Testowanie jakości każdego algorytmu na własnych zbiorach"
   ]
  },
  {
   "cell_type": "code",
   "execution_count": 3,
   "metadata": {},
   "outputs": [
    {
     "data": {
      "text/html": [
       "<div>\n",
       "<style scoped>\n",
       "    .dataframe tbody tr th:only-of-type {\n",
       "        vertical-align: middle;\n",
       "    }\n",
       "\n",
       "    .dataframe tbody tr th {\n",
       "        vertical-align: top;\n",
       "    }\n",
       "\n",
       "    .dataframe thead th {\n",
       "        text-align: right;\n",
       "    }\n",
       "</style>\n",
       "<table border=\"1\" class=\"dataframe\">\n",
       "  <thead>\n",
       "    <tr style=\"text-align: right;\">\n",
       "      <th></th>\n",
       "      <th>LDA</th>\n",
       "      <th>Random Forests</th>\n",
       "      <th>Tree</th>\n",
       "      <th>knn()</th>\n",
       "    </tr>\n",
       "  </thead>\n",
       "  <tbody>\n",
       "    <tr>\n",
       "      <th>0</th>\n",
       "      <td>[0.9557997557997557]</td>\n",
       "      <td>[0.9626373626373625]</td>\n",
       "      <td>[0.9457875457875458]</td>\n",
       "      <td>[0.9648351648351647]</td>\n",
       "    </tr>\n",
       "    <tr>\n",
       "      <th>1</th>\n",
       "      <td>[0.9842364532019705]</td>\n",
       "      <td>[1.0]</td>\n",
       "      <td>[1.0]</td>\n",
       "      <td>[1.0]</td>\n",
       "    </tr>\n",
       "    <tr>\n",
       "      <th>2</th>\n",
       "      <td>[1.0]</td>\n",
       "      <td>[0.99875]</td>\n",
       "      <td>[0.99875]</td>\n",
       "      <td>[0.99875]</td>\n",
       "    </tr>\n",
       "  </tbody>\n",
       "</table>\n",
       "</div>"
      ],
      "text/plain": [
       "                    LDA        Random Forests                  Tree  \\\n",
       "0  [0.9557997557997557]  [0.9626373626373625]  [0.9457875457875458]   \n",
       "1  [0.9842364532019705]                 [1.0]                 [1.0]   \n",
       "2                 [1.0]             [0.99875]             [0.99875]   \n",
       "\n",
       "                  knn()  \n",
       "0  [0.9648351648351647]  \n",
       "1                 [1.0]  \n",
       "2             [0.99875]  "
      ]
     },
     "execution_count": 3,
     "metadata": {},
     "output_type": "execute_result"
    }
   ],
   "source": [
    "n = [\"engytime\",\"wingnut\", \"twodiamonds\"]\n",
    "dict = []\n",
    "for index in n:\n",
    "    X = []\n",
    "    with open('{}.data.csv'.format(index), 'r') as infile:\n",
    "        for line in infile:\n",
    "            X.append(list(map(float, line.strip().split(\",\"))))\n",
    "        \n",
    "    y = []\n",
    "    with open('{}.labels.csv'.format(index), 'r') as infile:\n",
    "        for line in infile:\n",
    "            y.append(int(line.strip()))\n",
    "\n",
    "    dict.append(CV.crossvalidation(X, y, 5))\n",
    "pd.DataFrame(data=dict) "
   ]
  }
 ],
 "metadata": {
  "kernelspec": {
   "display_name": "Python 3",
   "language": "python",
   "name": "python3"
  },
  "language_info": {
   "codemirror_mode": {
    "name": "ipython",
    "version": 3
   },
   "file_extension": ".py",
   "mimetype": "text/x-python",
   "name": "python",
   "nbconvert_exporter": "python",
   "pygments_lexer": "ipython3",
   "version": "3.7.3"
  }
 },
 "nbformat": 4,
 "nbformat_minor": 2
}
